{
 "cells": [
  {
   "cell_type": "code",
   "execution_count": 49,
   "metadata": {},
   "outputs": [],
   "source": [
    "from cassandra.cluster import Cluster\n",
    "from cassandra.policies import DCAwareRoundRobinPolicy\n",
    "from cassandra.auth import PlainTextAuthProvider\n",
    "from cassandra.query import dict_factory\n"
   ]
  },
  {
   "cell_type": "code",
   "execution_count": 60,
   "metadata": {},
   "outputs": [
    {
     "name": "stderr",
     "output_type": "stream",
     "text": [
      "WARNING:cassandra.cluster:Downgrading core protocol version from 66 to 65 for 34.197.95.64:9042. To avoid this, it is best practice to explicitly set Cluster(protocol_version) to the version supported by your cluster. http://datastax.github.io/python-driver/api/cassandra/cluster.html#cassandra.cluster.Cluster.protocol_version\n",
      "WARNING:cassandra.cluster:Downgrading core protocol version from 65 to 4 for 34.197.95.64:9042. To avoid this, it is best practice to explicitly set Cluster(protocol_version) to the version supported by your cluster. http://datastax.github.io/python-driver/api/cassandra/cluster.html#cassandra.cluster.Cluster.protocol_version\n"
     ]
    },
    {
     "name": "stdout",
     "output_type": "stream",
     "text": [
      "Connected to cluster Chris_Carter\n",
      "Datacenter: AWS_VPC_US_EAST_1; Host: 52.44.0.178; Rack: us-east-1a\n",
      "Datacenter: AWS_VPC_US_EAST_1; Host: 34.197.95.64; Rack: us-east-1b\n",
      "Datacenter: AWS_VPC_US_EAST_1; Host: 18.205.179.31; Rack: us-east-1c\n"
     ]
    }
   ],
   "source": [
    "\n",
    "\n",
    "cluster = Cluster(\n",
    "    [\n",
    "        \"52.44.0.178\", \"34.197.95.64\", \"18.205.179.31\" # AWS_VPC_US_EAST_1 (Amazon Web Services)\n",
    "    ],\n",
    "    load_balancing_policy=DCAwareRoundRobinPolicy(local_dc='AWS_VPC_US_EAST_1'), # your local data centre\n",
    "    port=9042,\n",
    "    auth_provider=PlainTextAuthProvider (\n",
    "        username='iccassandra',\n",
    "        password='3e40b7ec5ead196a4b4bfd9bf0285dff'\n",
    "    )\n",
    ")\n",
    "session = cluster.connect()\n",
    "print('Connected to cluster %s' % cluster.metadata.cluster_name)\n",
    "\n",
    "for host in cluster.metadata.all_hosts():\n",
    "    print('Datacenter: %s; Host: %s; Rack: %s' % (host.datacenter, host.address, host.rack))\n",
    "\n",
    "            "
   ]
  },
  {
   "cell_type": "code",
   "execution_count": 27,
   "metadata": {},
   "outputs": [
    {
     "name": "stderr",
     "output_type": "stream",
     "text": [
      "WARNING:cassandra.cluster:Downgrading core protocol version from 66 to 65 for 18.205.179.31:9042. To avoid this, it is best practice to explicitly set Cluster(protocol_version) to the version supported by your cluster. http://datastax.github.io/python-driver/api/cassandra/cluster.html#cassandra.cluster.Cluster.protocol_version\n",
      "WARNING:cassandra.cluster:Downgrading core protocol version from 65 to 4 for 18.205.179.31:9042. To avoid this, it is best practice to explicitly set Cluster(protocol_version) to the version supported by your cluster. http://datastax.github.io/python-driver/api/cassandra/cluster.html#cassandra.cluster.Cluster.protocol_version\n"
     ]
    },
    {
     "ename": "AlreadyExists",
     "evalue": "Keyspace 'tutorialspoint' already exists",
     "output_type": "error",
     "traceback": [
      "\u001b[1;31m---------------------------------------------------------------------------\u001b[0m",
      "\u001b[1;31mAlreadyExists\u001b[0m                             Traceback (most recent call last)",
      "\u001b[1;32m<ipython-input-27-6d0eb056bfa9>\u001b[0m in \u001b[0;36m<module>\u001b[1;34m\u001b[0m\n\u001b[0;32m     11\u001b[0m )\n\u001b[0;32m     12\u001b[0m \u001b[0msession\u001b[0m \u001b[1;33m=\u001b[0m \u001b[0mcluster\u001b[0m\u001b[1;33m.\u001b[0m\u001b[0mconnect\u001b[0m\u001b[1;33m(\u001b[0m\u001b[1;33m)\u001b[0m\u001b[1;33m\u001b[0m\u001b[1;33m\u001b[0m\u001b[0m\n\u001b[1;32m---> 13\u001b[1;33m session.execute(\"CREATE KEYSPACE tutorialspoint \\n\"\n\u001b[0m\u001b[0;32m     14\u001b[0m                 \"WITH replication = {'class':'SimpleStrategy', 'replication_factor' : 3};\")\n\u001b[0;32m     15\u001b[0m \u001b[1;33m\u001b[0m\u001b[0m\n",
      "\u001b[1;32m~\\anaconda3\\lib\\site-packages\\cassandra\\cluster.py\u001b[0m in \u001b[0;36mexecute\u001b[1;34m(self, query, parameters, timeout, trace, custom_payload, execution_profile, paging_state, host, execute_as)\u001b[0m\n\u001b[0;32m   2616\u001b[0m         \"\"\"\n\u001b[0;32m   2617\u001b[0m \u001b[1;33m\u001b[0m\u001b[0m\n\u001b[1;32m-> 2618\u001b[1;33m         \u001b[1;32mreturn\u001b[0m \u001b[0mself\u001b[0m\u001b[1;33m.\u001b[0m\u001b[0mexecute_async\u001b[0m\u001b[1;33m(\u001b[0m\u001b[0mquery\u001b[0m\u001b[1;33m,\u001b[0m \u001b[0mparameters\u001b[0m\u001b[1;33m,\u001b[0m \u001b[0mtrace\u001b[0m\u001b[1;33m,\u001b[0m \u001b[0mcustom_payload\u001b[0m\u001b[1;33m,\u001b[0m \u001b[0mtimeout\u001b[0m\u001b[1;33m,\u001b[0m \u001b[0mexecution_profile\u001b[0m\u001b[1;33m,\u001b[0m \u001b[0mpaging_state\u001b[0m\u001b[1;33m,\u001b[0m \u001b[0mhost\u001b[0m\u001b[1;33m,\u001b[0m \u001b[0mexecute_as\u001b[0m\u001b[1;33m)\u001b[0m\u001b[1;33m.\u001b[0m\u001b[0mresult\u001b[0m\u001b[1;33m(\u001b[0m\u001b[1;33m)\u001b[0m\u001b[1;33m\u001b[0m\u001b[1;33m\u001b[0m\u001b[0m\n\u001b[0m\u001b[0;32m   2619\u001b[0m \u001b[1;33m\u001b[0m\u001b[0m\n\u001b[0;32m   2620\u001b[0m     def execute_async(self, query, parameters=None, trace=False, custom_payload=None,\n",
      "\u001b[1;32m~\\anaconda3\\lib\\site-packages\\cassandra\\cluster.py\u001b[0m in \u001b[0;36mresult\u001b[1;34m(self)\u001b[0m\n\u001b[0;32m   4875\u001b[0m             \u001b[1;32mreturn\u001b[0m \u001b[0mResultSet\u001b[0m\u001b[1;33m(\u001b[0m\u001b[0mself\u001b[0m\u001b[1;33m,\u001b[0m \u001b[0mself\u001b[0m\u001b[1;33m.\u001b[0m\u001b[0m_final_result\u001b[0m\u001b[1;33m)\u001b[0m\u001b[1;33m\u001b[0m\u001b[1;33m\u001b[0m\u001b[0m\n\u001b[0;32m   4876\u001b[0m         \u001b[1;32melse\u001b[0m\u001b[1;33m:\u001b[0m\u001b[1;33m\u001b[0m\u001b[1;33m\u001b[0m\u001b[0m\n\u001b[1;32m-> 4877\u001b[1;33m             \u001b[1;32mraise\u001b[0m \u001b[0mself\u001b[0m\u001b[1;33m.\u001b[0m\u001b[0m_final_exception\u001b[0m\u001b[1;33m\u001b[0m\u001b[1;33m\u001b[0m\u001b[0m\n\u001b[0m\u001b[0;32m   4878\u001b[0m \u001b[1;33m\u001b[0m\u001b[0m\n\u001b[0;32m   4879\u001b[0m     \u001b[1;32mdef\u001b[0m \u001b[0mget_query_trace_ids\u001b[0m\u001b[1;33m(\u001b[0m\u001b[0mself\u001b[0m\u001b[1;33m)\u001b[0m\u001b[1;33m:\u001b[0m\u001b[1;33m\u001b[0m\u001b[1;33m\u001b[0m\u001b[0m\n",
      "\u001b[1;31mAlreadyExists\u001b[0m: Keyspace 'tutorialspoint' already exists"
     ]
    }
   ],
   "source": [
    "\n",
    "session.execute(\"CREATE KEYSPACE tutorialspoint \\n\"\n",
    "                \"WITH replication = {'class':'SimpleStrategy', 'replication_factor' : 3};\")\n"
   ]
  },
  {
   "cell_type": "code",
   "execution_count": 70,
   "metadata": {},
   "outputs": [
    {
     "name": "stderr",
     "output_type": "stream",
     "text": [
      "WARNING:cassandra.cluster:Downgrading core protocol version from 66 to 65 for 34.197.95.64:9042. To avoid this, it is best practice to explicitly set Cluster(protocol_version) to the version supported by your cluster. http://datastax.github.io/python-driver/api/cassandra/cluster.html#cassandra.cluster.Cluster.protocol_version\n",
      "WARNING:cassandra.cluster:Downgrading core protocol version from 65 to 4 for 34.197.95.64:9042. To avoid this, it is best practice to explicitly set Cluster(protocol_version) to the version supported by your cluster. http://datastax.github.io/python-driver/api/cassandra/cluster.html#cassandra.cluster.Cluster.protocol_version\n"
     ]
    },
    {
     "data": {
      "text/plain": [
       "<cassandra.cluster.ResultSet at 0x1944af03b48>"
      ]
     },
     "execution_count": 70,
     "metadata": {},
     "output_type": "execute_result"
    }
   ],
   "source": [
    "cluster = Cluster(\n",
    "    [\n",
    "        \"52.44.0.178\", \"34.197.95.64\", \"18.205.179.31\" # AWS_VPC_US_EAST_1 (Amazon Web Services)\n",
    "    ],\n",
    "    load_balancing_policy=DCAwareRoundRobinPolicy(local_dc='AWS_VPC_US_EAST_1'), # your local data centre\n",
    "    port=9042,\n",
    "    auth_provider=PlainTextAuthProvider (\n",
    "        username='iccassandra',\n",
    "        password='3e40b7ec5ead196a4b4bfd9bf0285dff'\n",
    "    )\n",
    ")\n",
    "session = cluster.connect()\n",
    "session.set_keyspace('tutorialspoint')\n",
    "#session.execute('DROP TABLE tutorialspoint.instaclustr')\n",
    "session.execute(\"\"\"\n",
    "\n",
    "        CREATE TABLE tutorialspoint.instaclustr(\n",
    "            \n",
    "            title text PRIMARY KEY,\n",
    "            release_year int,\n",
    "            genre text,\n",
    "            director text\n",
    "            ) ;\n",
    "\n",
    "                \"\"\")\n",
    "#id UUID PRIMARY KEY,"
   ]
  },
  {
   "cell_type": "code",
   "execution_count": 71,
   "metadata": {},
   "outputs": [
    {
     "data": {
      "text/plain": [
       "<cassandra.cluster.ResultSet at 0x1944af020c8>"
      ]
     },
     "execution_count": 71,
     "metadata": {},
     "output_type": "execute_result"
    }
   ],
   "source": [
    "\n",
    "session.execute(\"\"\"\n",
    "    INSERT INTO instaclustr\n",
    "        (title, release_year, genre, director)\n",
    "    VALUES\n",
    "        ('Independence Day', 1996, 'action', 'Roland Emmerich');\n",
    "                \"\"\")\n",
    "\n",
    "\n"
   ]
  },
  {
   "cell_type": "code",
   "execution_count": 76,
   "metadata": {},
   "outputs": [],
   "source": [
    "\n",
    "session.row_factory = dict_factory\n",
    "rows = session.execute(\"\"\"\n",
    "        SELECT * FROM instaclustr;\n",
    "                \"\"\")\n"
   ]
  },
  {
   "cell_type": "code",
   "execution_count": 78,
   "metadata": {},
   "outputs": [
    {
     "name": "stdout",
     "output_type": "stream",
     "text": [
      "{'title': 'The Player', 'director': 'Robert Altman', 'genre': 'comedy', 'release_year': 1992}\n",
      "{'title': 'Jurassic Park', 'director': 'Steven Spielberg', 'genre': 'action', 'release_year': 1993}\n",
      "{'title': 'Moonrise Kingdom', 'director': 'Wes Anderson', 'genre': 'comedy', 'release_year': 2012}\n",
      "{'title': 'Ghostbusters', 'director': 'Ivan Reitman', 'genre': 'comedy', 'release_year': 1984}\n",
      "{'title': 'Independence Day', 'director': 'Roland Emmerich', 'genre': 'action', 'release_year': 1996}\n",
      "{'title': 'Die Hard', 'director': 'John McTiernan', 'genre': 'action', 'release_year': 1988}\n",
      "{'title': 'The Grand Budapest Hotel', 'director': 'Wes Anderson', 'genre': 'comedy', 'release_year': 2014}\n"
     ]
    }
   ],
   "source": [
    "for row in rows:\n",
    "    print(row)\n"
   ]
  },
  {
   "cell_type": "code",
   "execution_count": 75,
   "metadata": {},
   "outputs": [
    {
     "data": {
      "text/plain": [
       "<cassandra.cluster.ResultSet at 0x1944af65348>"
      ]
     },
     "execution_count": 75,
     "metadata": {},
     "output_type": "execute_result"
    }
   ],
   "source": [
    "\n",
    "session.execute(\"\"\"  \n",
    "    INSERT INTO instaclustr\n",
    "        (title, release_year, genre, director)\n",
    "    VALUES\n",
    "        ('Jurassic Park', 1993, 'action', 'Steven Spielberg');\n",
    "\"\"\")         \n",
    "session.execute(\"\"\"        \n",
    "    INSERT INTO instaclustr\n",
    "        (title, release_year, genre, director)\n",
    "    VALUES\n",
    "        ('Die Hard', 1988, 'action', 'John McTiernan');\n",
    "\"\"\")         \n",
    "session.execute(\"\"\"        \n",
    "    INSERT INTO instaclustr\n",
    "        (title, release_year, genre, director)\n",
    "    VALUES\n",
    "        ('The Player', 1992, 'comedy', 'Robert Altman');\n",
    "\"\"\")                 \n",
    "session.execute(\"\"\"                \n",
    "    INSERT INTO instaclustr\n",
    "        (title, release_year, genre, director)\n",
    "    VALUES\n",
    "        ('The Grand Budapest Hotel', 2014, 'comedy', 'Wes Anderson');\n",
    "\"\"\")         \n",
    "session.execute(\"\"\"        \n",
    "    INSERT INTO instaclustr\n",
    "        (title, release_year, genre, director)\n",
    "    VALUES\n",
    "        ('Moonrise Kingdom', 2012, 'comedy', 'Wes Anderson');\n",
    "\"\"\")                 \n",
    "session.execute(\"\"\"                \n",
    "    INSERT INTO instaclustr\n",
    "        (title, release_year, genre, director)\n",
    "    VALUES\n",
    "        ('Ghostbusters', 1984, 'comedy', 'Ivan Reitman')\n",
    "    ;\n",
    "\"\"\") "
   ]
  },
  {
   "cell_type": "code",
   "execution_count": null,
   "metadata": {},
   "outputs": [],
   "source": [
    "cluster.shutdown()"
   ]
  }
 ],
 "metadata": {
  "kernelspec": {
   "display_name": "Python 3",
   "language": "python",
   "name": "python3"
  },
  "language_info": {
   "codemirror_mode": {
    "name": "ipython",
    "version": 3
   },
   "file_extension": ".py",
   "mimetype": "text/x-python",
   "name": "python",
   "nbconvert_exporter": "python",
   "pygments_lexer": "ipython3",
   "version": "3.7.6"
  }
 },
 "nbformat": 4,
 "nbformat_minor": 4
}
